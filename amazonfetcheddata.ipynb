{
 "cells": [
  {
   "cell_type": "code",
   "execution_count": 5,
   "metadata": {},
   "outputs": [],
   "source": [
    "    from selenium import webdriver\n",
    "    from bs4 import BeautifulSoup \n",
    "    import pandas as pd"
   ]
  },
  {
   "cell_type": "code",
   "execution_count": 6,
   "metadata": {},
   "outputs": [],
   "source": [
    "driver = webdriver.Chrome(\"C:\\\\Users\\\\Ningesh\\\\Downloads\\\\chromedriver.exe\")"
   ]
  },
  {
   "cell_type": "code",
   "execution_count": 18,
   "metadata": {},
   "outputs": [],
   "source": [
    "products=[] #List to store name of the product\n",
    "prices=[] #List to store price of the product\n",
    "\n",
    "driver.get(\"https://www.amazon.in/s?k=mi+smart+tv&crid=2HVJCDB4MO7QB&sprefix=mi+smart%2Caps%2C307&ref=nb_sb_ss_i_1_8\")\n"
   ]
  },
  {
   "cell_type": "code",
   "execution_count": 40,
   "metadata": {},
   "outputs": [],
   "source": [
    "content = driver.page_source\n",
    "soup = BeautifulSoup(content)\n",
    "for a in soup.findAll('a',href=True, attrs={'class':'detail-baseinfo_title '}):\n",
    "\n",
    "    product=a.find('span', attrs={'class':'detail-baseinfo_title '})\n",
    " \n",
    "    \n",
    "    \n",
    "for a1 in soup.findAll('a',href=True, attrs={'class':'a-size-base a-link-normal s-no-hover a-text-normal'}):\n",
    "    price=a1.find('span', attrs={'class':'a-price'})\n",
    " \n",
    " \n",
    "    prices.append(price.text)\n",
    " \n",
    "  \n",
    "\n",
    " \n",
    " \n"
   ]
  },
  {
   "cell_type": "code",
   "execution_count": 2,
   "metadata": {},
   "outputs": [],
   "source": [
    "import requests \n",
    "from bs4 import BeautifulSoup \n",
    "import csv \n",
    "\n",
    "URL = \"http://www.values.com/inspirational-quotes\"\n",
    "r = requests.get(URL) \n",
    "\n",
    "soup = BeautifulSoup(r.content, 'html5lib') \n",
    "\n",
    "quotes=[] # a list to store quotes \n",
    "\n",
    "table = soup.find('div', attrs = {'class':'container'}) \n",
    "\n",
    "for row in table.findAll('div', attrs = {'class':'col-6 col-lg-3 text-center margin-30px-bottom sm-margin-30px-top'}): \n",
    "\tquote = {} \n",
    "\tquote['theme'] = row.h5.text \n",
    "\tquote['url'] = row.a['href'] \n",
    "\tquote['img'] = row.img['src'] \n",
    "\tquote['lines'] = row.img['alt'].split(\" #\")[0] \n",
    "\tquote['author'] = row.img['alt'].split(\" #\")[1] \n",
    "\tquotes.append(quote) \n",
    "\n",
    "filename = 'inspirational_quotes.csv'\n",
    "with open(filename, 'w', newline='') as f: \n",
    "\tw = csv.DictWriter(f,['theme','url','img','lines','author']) \n",
    "\tw.writeheader() \n",
    "\tfor quote in quotes: \n",
    "\t\tw.writerow(quote) \n",
    "\n"
   ]
  },
  {
   "cell_type": "code",
   "execution_count": 46,
   "metadata": {},
   "outputs": [
    {
     "data": {
      "text/plain": [
       "['₹22,999₹22,999',\n",
       " '₹21,999₹21,999',\n",
       " '₹12,499₹12,499',\n",
       " '₹29,999₹29,999',\n",
       " '₹69,899₹69,899',\n",
       " '₹34,890₹34,890',\n",
       " '₹29,999₹29,999',\n",
       " '₹22,999₹22,999',\n",
       " '₹33,690₹33,690',\n",
       " '₹44,990₹44,990',\n",
       " '₹54,990₹54,990',\n",
       " '₹8,999₹8,999',\n",
       " '₹11,499₹11,499',\n",
       " '₹22,999₹22,999',\n",
       " '₹22,999₹22,999',\n",
       " '₹11,499₹11,499',\n",
       " '₹8,899₹8,899',\n",
       " '₹9,499₹9,499',\n",
       " '₹23,999₹23,999',\n",
       " '₹22,999₹22,999',\n",
       " '₹21,999₹21,999',\n",
       " '₹12,499₹12,499',\n",
       " '₹29,999₹29,999',\n",
       " '₹69,899₹69,899',\n",
       " '₹34,890₹34,890',\n",
       " '₹29,999₹29,999',\n",
       " '₹22,999₹22,999',\n",
       " '₹33,690₹33,690',\n",
       " '₹44,990₹44,990',\n",
       " '₹54,990₹54,990',\n",
       " '₹8,999₹8,999',\n",
       " '₹11,499₹11,499',\n",
       " '₹22,999₹22,999',\n",
       " '₹22,999₹22,999',\n",
       " '₹11,499₹11,499',\n",
       " '₹8,899₹8,899',\n",
       " '₹9,499₹9,499',\n",
       " '₹23,999₹23,999',\n",
       " '₹22,999₹22,999',\n",
       " '₹21,999₹21,999',\n",
       " '₹12,499₹12,499',\n",
       " '₹29,999₹29,999',\n",
       " '₹69,899₹69,899',\n",
       " '₹34,890₹34,890',\n",
       " '₹29,999₹29,999',\n",
       " '₹22,999₹22,999',\n",
       " '₹33,690₹33,690',\n",
       " '₹44,990₹44,990',\n",
       " '₹54,990₹54,990',\n",
       " '₹8,999₹8,999',\n",
       " '₹11,499₹11,499',\n",
       " '₹22,999₹22,999',\n",
       " '₹22,999₹22,999',\n",
       " '₹11,499₹11,499',\n",
       " '₹8,899₹8,899',\n",
       " '₹9,499₹9,499',\n",
       " '₹23,999₹23,999',\n",
       " '₹22,999₹22,999',\n",
       " '₹21,999₹21,999',\n",
       " '₹12,499₹12,499',\n",
       " '₹29,999₹29,999',\n",
       " '₹69,899₹69,899',\n",
       " '₹34,890₹34,890',\n",
       " '₹29,999₹29,999',\n",
       " '₹22,999₹22,999',\n",
       " '₹33,690₹33,690',\n",
       " '₹44,990₹44,990',\n",
       " '₹54,990₹54,990',\n",
       " '₹8,999₹8,999',\n",
       " '₹11,499₹11,499',\n",
       " '₹22,999₹22,999',\n",
       " '₹22,999₹22,999',\n",
       " '₹11,499₹11,499',\n",
       " '₹8,899₹8,899',\n",
       " '₹9,499₹9,499',\n",
       " '₹23,999₹23,999',\n",
       " '₹23,999₹23,999']"
      ]
     },
     "execution_count": 46,
     "metadata": {},
     "output_type": "execute_result"
    }
   ],
   "source": [
    "prices"
   ]
  },
  {
   "cell_type": "code",
   "execution_count": 47,
   "metadata": {},
   "outputs": [
    {
     "ename": "AttributeError",
     "evalue": "'NoneType' object has no attribute 'text'",
     "output_type": "error",
     "traceback": [
      "\u001b[1;31m---------------------------------------------------------------------------\u001b[0m",
      "\u001b[1;31mAttributeError\u001b[0m                            Traceback (most recent call last)",
      "\u001b[1;32m<ipython-input-47-91b2b662ce32>\u001b[0m in \u001b[0;36m<module>\u001b[1;34m\u001b[0m\n\u001b[1;32m----> 1\u001b[1;33m \u001b[0mproducts\u001b[0m\u001b[1;33m.\u001b[0m\u001b[0mappend\u001b[0m\u001b[1;33m(\u001b[0m\u001b[0mname\u001b[0m\u001b[1;33m.\u001b[0m\u001b[0mtext\u001b[0m\u001b[1;33m)\u001b[0m\u001b[1;33m\u001b[0m\u001b[1;33m\u001b[0m\u001b[0m\n\u001b[0m",
      "\u001b[1;31mAttributeError\u001b[0m: 'NoneType' object has no attribute 'text'"
     ]
    }
   ],
   "source": [
    "    products.append(name.text)"
   ]
  },
  {
   "cell_type": "code",
   "execution_count": 48,
   "metadata": {},
   "outputs": [
    {
     "data": {
      "text/plain": [
       "['TCL 107.88 cm (43 inches) 4K Ultra HD Smart LED TV 43P65US-2019 (Black) | Built-In Alexa',\n",
       " 'TCL 107.86 cm (43 inches) Full HD LED Certified Android Smart TV P30 43P30FS (Black)',\n",
       " 'Mi TV 4A PRO 80 cm (32 inches) HD Ready Android LED TV (Black) | With Data Saver',\n",
       " 'Mi TV 4A PRO 108 cm (43 Inches) Full HD Android LED TV (Black) | With Data Saver',\n",
       " 'Mi TV 4X 125.7 cm (50 Inches) 4K Ultra HD Android LED TV (Black)',\n",
       " 'TCL 107.88 cm (43 inches) 4K Ultra HD Smart LED TV 43P65US-2019 (Black) | Built-In Alexa',\n",
       " 'TCL 107.86 cm (43 inches) Full HD LED Certified Android Smart TV P30 43P30FS (Black)',\n",
       " 'Mi TV 4A PRO 80 cm (32 inches) HD Ready Android LED TV (Black) | With Data Saver',\n",
       " 'Mi TV 4A PRO 108 cm (43 Inches) Full HD Android LED TV (Black) | With Data Saver',\n",
       " 'Mi TV 4X 125.7 cm (50 Inches) 4K Ultra HD Android LED TV (Black)',\n",
       " 'TCL 107.88 cm (43 inches) 4K Ultra HD Smart LED TV 43P65US-2019 (Black) | Built-In Alexa',\n",
       " 'TCL 107.88 cm (43 inches) 4K Ultra HD Smart LED TV 43P65US-2019 (Black) | Built-In Alexa',\n",
       " 'TCL 107.86 cm (43 inches) Full HD LED Certified Android Smart TV P30 43P30FS (Black)',\n",
       " 'Mi TV 4A PRO 80 cm (32 inches) HD Ready Android LED TV (Black) | With Data Saver',\n",
       " 'Mi TV 4A PRO 108 cm (43 Inches) Full HD Android LED TV (Black) | With Data Saver',\n",
       " 'Mi TV 4X 125.7 cm (50 Inches) 4K Ultra HD Android LED TV (Black)',\n",
       " 'TCL 107.88 cm (43 inches) 4K Ultra HD Smart LED TV 43P65US-2019 (Black) | Built-In Alexa',\n",
       " 'TCL 107.86 cm (43 inches) Full HD LED Certified Android Smart TV P30 43P30FS (Black)',\n",
       " 'Mi TV 4A PRO 80 cm (32 inches) HD Ready Android LED TV (Black) | With Data Saver',\n",
       " 'Mi TV 4A PRO 108 cm (43 Inches) Full HD Android LED TV (Black) | With Data Saver',\n",
       " 'Mi TV 4X 125.7 cm (50 Inches) 4K Ultra HD Android LED TV (Black)',\n",
       " 'TCL 107.88 cm (43 inches) 4K Ultra HD Smart LED TV 43P65US-2019 (Black) | Built-In Alexa',\n",
       " 'TCL 107.86 cm (43 inches) Full HD LED Certified Android Smart TV P30 43P30FS (Black)',\n",
       " 'Mi TV 4A PRO 80 cm (32 inches) HD Ready Android LED TV (Black) | With Data Saver',\n",
       " 'Mi TV 4A PRO 108 cm (43 Inches) Full HD Android LED TV (Black) | With Data Saver',\n",
       " 'Mi TV 4X 125.7 cm (50 Inches) 4K Ultra HD Android LED TV (Black)',\n",
       " 'TCL 107.88 cm (43 inches) 4K Ultra HD Smart LED TV 43P65US-2019 (Black) | Built-In Alexa',\n",
       " 'TCL 107.86 cm (43 inches) Full HD LED Certified Android Smart TV P30 43P30FS (Black)',\n",
       " 'Mi TV 4A PRO 80 cm (32 inches) HD Ready Android LED TV (Black) | With Data Saver',\n",
       " 'Mi TV 4A PRO 108 cm (43 Inches) Full HD Android LED TV (Black) | With Data Saver',\n",
       " 'Mi TV 4X 125.7 cm (50 Inches) 4K Ultra HD Android LED TV (Black)',\n",
       " 'TCL 107.88 cm (43 inches) 4K Ultra HD Smart LED TV 43P65US-2019 (Black) | Built-In Alexa',\n",
       " 'TCL 107.86 cm (43 inches) Full HD LED Certified Android Smart TV P30 43P30FS (Black)',\n",
       " 'Mi TV 4A PRO 80 cm (32 inches) HD Ready Android LED TV (Black) | With Data Saver',\n",
       " 'Mi TV 4A PRO 108 cm (43 Inches) Full HD Android LED TV (Black) | With Data Saver',\n",
       " 'Mi TV 4X 125.7 cm (50 Inches) 4K Ultra HD Android LED TV (Black)',\n",
       " 'TCL 107.88 cm (43 inches) 4K Ultra HD Smart LED TV 43P65US-2019 (Black) | Built-In Alexa',\n",
       " 'TCL 107.86 cm (43 inches) Full HD LED Certified Android Smart TV P30 43P30FS (Black)',\n",
       " 'Mi TV 4A PRO 80 cm (32 inches) HD Ready Android LED TV (Black) | With Data Saver',\n",
       " 'Mi TV 4A PRO 108 cm (43 Inches) Full HD Android LED TV (Black) | With Data Saver',\n",
       " 'Mi TV 4X 125.7 cm (50 Inches) 4K Ultra HD Android LED TV (Black)',\n",
       " 'TCL 107.88 cm (43 inches) 4K Ultra HD Smart LED TV 43P65US-2019 (Black) | Built-In Alexa',\n",
       " 'TCL 107.86 cm (43 inches) Full HD LED Certified Android Smart TV P30 43P30FS (Black)',\n",
       " 'Mi TV 4A PRO 80 cm (32 inches) HD Ready Android LED TV (Black) | With Data Saver',\n",
       " 'Mi TV 4A PRO 108 cm (43 Inches) Full HD Android LED TV (Black) | With Data Saver',\n",
       " 'Mi TV 4X 125.7 cm (50 Inches) 4K Ultra HD Android LED TV (Black)',\n",
       " 'TCL 107.88 cm (43 inches) 4K Ultra HD Smart LED TV 43P65US-2019 (Black) | Built-In Alexa',\n",
       " 'TCL 107.86 cm (43 inches) Full HD LED Certified Android Smart TV P30 43P30FS (Black)',\n",
       " 'Mi TV 4A PRO 80 cm (32 inches) HD Ready Android LED TV (Black) | With Data Saver',\n",
       " 'Mi TV 4A PRO 108 cm (43 Inches) Full HD Android LED TV (Black) | With Data Saver',\n",
       " 'Mi TV 4X 125.7 cm (50 Inches) 4K Ultra HD Android LED TV (Black)',\n",
       " 'TCL 107.88 cm (43 inches) 4K Ultra HD Smart LED TV 43P65US-2019 (Black) | Built-In Alexa',\n",
       " 'TCL 107.86 cm (43 inches) Full HD LED Certified Android Smart TV P30 43P30FS (Black)',\n",
       " 'Mi TV 4A PRO 80 cm (32 inches) HD Ready Android LED TV (Black) | With Data Saver',\n",
       " 'Mi TV 4A PRO 108 cm (43 Inches) Full HD Android LED TV (Black) | With Data Saver',\n",
       " 'Mi TV 4X 125.7 cm (50 Inches) 4K Ultra HD Android LED TV (Black)']"
      ]
     },
     "execution_count": 48,
     "metadata": {},
     "output_type": "execute_result"
    }
   ],
   "source": [
    "products"
   ]
  },
  {
   "cell_type": "code",
   "execution_count": 44,
   "metadata": {},
   "outputs": [],
   "source": [
    "prices.append(price.text)"
   ]
  },
  {
   "cell_type": "code",
   "execution_count": 45,
   "metadata": {},
   "outputs": [
    {
     "data": {
      "text/plain": [
       "['₹22,999₹22,999',\n",
       " '₹21,999₹21,999',\n",
       " '₹12,499₹12,499',\n",
       " '₹29,999₹29,999',\n",
       " '₹69,899₹69,899',\n",
       " '₹34,890₹34,890',\n",
       " '₹29,999₹29,999',\n",
       " '₹22,999₹22,999',\n",
       " '₹33,690₹33,690',\n",
       " '₹44,990₹44,990',\n",
       " '₹54,990₹54,990',\n",
       " '₹8,999₹8,999',\n",
       " '₹11,499₹11,499',\n",
       " '₹22,999₹22,999',\n",
       " '₹22,999₹22,999',\n",
       " '₹11,499₹11,499',\n",
       " '₹8,899₹8,899',\n",
       " '₹9,499₹9,499',\n",
       " '₹23,999₹23,999',\n",
       " '₹22,999₹22,999',\n",
       " '₹21,999₹21,999',\n",
       " '₹12,499₹12,499',\n",
       " '₹29,999₹29,999',\n",
       " '₹69,899₹69,899',\n",
       " '₹34,890₹34,890',\n",
       " '₹29,999₹29,999',\n",
       " '₹22,999₹22,999',\n",
       " '₹33,690₹33,690',\n",
       " '₹44,990₹44,990',\n",
       " '₹54,990₹54,990',\n",
       " '₹8,999₹8,999',\n",
       " '₹11,499₹11,499',\n",
       " '₹22,999₹22,999',\n",
       " '₹22,999₹22,999',\n",
       " '₹11,499₹11,499',\n",
       " '₹8,899₹8,899',\n",
       " '₹9,499₹9,499',\n",
       " '₹23,999₹23,999',\n",
       " '₹22,999₹22,999',\n",
       " '₹21,999₹21,999',\n",
       " '₹12,499₹12,499',\n",
       " '₹29,999₹29,999',\n",
       " '₹69,899₹69,899',\n",
       " '₹34,890₹34,890',\n",
       " '₹29,999₹29,999',\n",
       " '₹22,999₹22,999',\n",
       " '₹33,690₹33,690',\n",
       " '₹44,990₹44,990',\n",
       " '₹54,990₹54,990',\n",
       " '₹8,999₹8,999',\n",
       " '₹11,499₹11,499',\n",
       " '₹22,999₹22,999',\n",
       " '₹22,999₹22,999',\n",
       " '₹11,499₹11,499',\n",
       " '₹8,899₹8,899',\n",
       " '₹9,499₹9,499',\n",
       " '₹23,999₹23,999',\n",
       " '₹22,999₹22,999',\n",
       " '₹21,999₹21,999',\n",
       " '₹12,499₹12,499',\n",
       " '₹29,999₹29,999',\n",
       " '₹69,899₹69,899',\n",
       " '₹34,890₹34,890',\n",
       " '₹29,999₹29,999',\n",
       " '₹22,999₹22,999',\n",
       " '₹33,690₹33,690',\n",
       " '₹44,990₹44,990',\n",
       " '₹54,990₹54,990',\n",
       " '₹8,999₹8,999',\n",
       " '₹11,499₹11,499',\n",
       " '₹22,999₹22,999',\n",
       " '₹22,999₹22,999',\n",
       " '₹11,499₹11,499',\n",
       " '₹8,899₹8,899',\n",
       " '₹9,499₹9,499',\n",
       " '₹23,999₹23,999',\n",
       " '₹23,999₹23,999']"
      ]
     },
     "execution_count": 45,
     "metadata": {},
     "output_type": "execute_result"
    }
   ],
   "source": [
    "prices"
   ]
  },
  {
   "cell_type": "code",
   "execution_count": 144,
   "metadata": {},
   "outputs": [
    {
     "ename": "ValueError",
     "evalue": "arrays must all be same length",
     "output_type": "error",
     "traceback": [
      "\u001b[1;31m---------------------------------------------------------------------------\u001b[0m",
      "\u001b[1;31mValueError\u001b[0m                                Traceback (most recent call last)",
      "\u001b[1;32m<ipython-input-144-f9498bafa674>\u001b[0m in \u001b[0;36m<module>\u001b[1;34m\u001b[0m\n\u001b[1;32m----> 1\u001b[1;33m \u001b[0mdf\u001b[0m \u001b[1;33m=\u001b[0m \u001b[0mpd\u001b[0m\u001b[1;33m.\u001b[0m\u001b[0mDataFrame\u001b[0m\u001b[1;33m(\u001b[0m\u001b[1;33m{\u001b[0m\u001b[1;34m'Product Name'\u001b[0m\u001b[1;33m:\u001b[0m\u001b[0mproducts\u001b[0m\u001b[1;33m,\u001b[0m\u001b[1;34m'prices'\u001b[0m\u001b[1;33m:\u001b[0m\u001b[0mprices\u001b[0m\u001b[1;33m}\u001b[0m\u001b[1;33m)\u001b[0m\u001b[1;33m\u001b[0m\u001b[1;33m\u001b[0m\u001b[0m\n\u001b[0m\u001b[0;32m      2\u001b[0m \u001b[0mdf\u001b[0m\u001b[1;33m.\u001b[0m\u001b[0mto_csv\u001b[0m\u001b[1;33m(\u001b[0m\u001b[1;34m'products12.csv'\u001b[0m\u001b[1;33m,\u001b[0m \u001b[0mindex\u001b[0m\u001b[1;33m=\u001b[0m\u001b[1;32mFalse\u001b[0m\u001b[1;33m,\u001b[0m \u001b[0mencoding\u001b[0m\u001b[1;33m=\u001b[0m\u001b[1;34m'utf-8'\u001b[0m\u001b[1;33m)\u001b[0m\u001b[1;33m\u001b[0m\u001b[1;33m\u001b[0m\u001b[0m\n",
      "\u001b[1;32m~\\Anaconda3\\lib\\site-packages\\pandas\\core\\frame.py\u001b[0m in \u001b[0;36m__init__\u001b[1;34m(self, data, index, columns, dtype, copy)\u001b[0m\n\u001b[0;32m    433\u001b[0m             )\n\u001b[0;32m    434\u001b[0m         \u001b[1;32melif\u001b[0m \u001b[0misinstance\u001b[0m\u001b[1;33m(\u001b[0m\u001b[0mdata\u001b[0m\u001b[1;33m,\u001b[0m \u001b[0mdict\u001b[0m\u001b[1;33m)\u001b[0m\u001b[1;33m:\u001b[0m\u001b[1;33m\u001b[0m\u001b[1;33m\u001b[0m\u001b[0m\n\u001b[1;32m--> 435\u001b[1;33m             \u001b[0mmgr\u001b[0m \u001b[1;33m=\u001b[0m \u001b[0minit_dict\u001b[0m\u001b[1;33m(\u001b[0m\u001b[0mdata\u001b[0m\u001b[1;33m,\u001b[0m \u001b[0mindex\u001b[0m\u001b[1;33m,\u001b[0m \u001b[0mcolumns\u001b[0m\u001b[1;33m,\u001b[0m \u001b[0mdtype\u001b[0m\u001b[1;33m=\u001b[0m\u001b[0mdtype\u001b[0m\u001b[1;33m)\u001b[0m\u001b[1;33m\u001b[0m\u001b[1;33m\u001b[0m\u001b[0m\n\u001b[0m\u001b[0;32m    436\u001b[0m         \u001b[1;32melif\u001b[0m \u001b[0misinstance\u001b[0m\u001b[1;33m(\u001b[0m\u001b[0mdata\u001b[0m\u001b[1;33m,\u001b[0m \u001b[0mma\u001b[0m\u001b[1;33m.\u001b[0m\u001b[0mMaskedArray\u001b[0m\u001b[1;33m)\u001b[0m\u001b[1;33m:\u001b[0m\u001b[1;33m\u001b[0m\u001b[1;33m\u001b[0m\u001b[0m\n\u001b[0;32m    437\u001b[0m             \u001b[1;32mimport\u001b[0m \u001b[0mnumpy\u001b[0m\u001b[1;33m.\u001b[0m\u001b[0mma\u001b[0m\u001b[1;33m.\u001b[0m\u001b[0mmrecords\u001b[0m \u001b[1;32mas\u001b[0m \u001b[0mmrecords\u001b[0m\u001b[1;33m\u001b[0m\u001b[1;33m\u001b[0m\u001b[0m\n",
      "\u001b[1;32m~\\Anaconda3\\lib\\site-packages\\pandas\\core\\internals\\construction.py\u001b[0m in \u001b[0;36minit_dict\u001b[1;34m(data, index, columns, dtype)\u001b[0m\n\u001b[0;32m    252\u001b[0m             \u001b[0marr\u001b[0m \u001b[1;32mif\u001b[0m \u001b[1;32mnot\u001b[0m \u001b[0mis_datetime64tz_dtype\u001b[0m\u001b[1;33m(\u001b[0m\u001b[0marr\u001b[0m\u001b[1;33m)\u001b[0m \u001b[1;32melse\u001b[0m \u001b[0marr\u001b[0m\u001b[1;33m.\u001b[0m\u001b[0mcopy\u001b[0m\u001b[1;33m(\u001b[0m\u001b[1;33m)\u001b[0m \u001b[1;32mfor\u001b[0m \u001b[0marr\u001b[0m \u001b[1;32min\u001b[0m \u001b[0marrays\u001b[0m\u001b[1;33m\u001b[0m\u001b[1;33m\u001b[0m\u001b[0m\n\u001b[0;32m    253\u001b[0m         ]\n\u001b[1;32m--> 254\u001b[1;33m     \u001b[1;32mreturn\u001b[0m \u001b[0marrays_to_mgr\u001b[0m\u001b[1;33m(\u001b[0m\u001b[0marrays\u001b[0m\u001b[1;33m,\u001b[0m \u001b[0mdata_names\u001b[0m\u001b[1;33m,\u001b[0m \u001b[0mindex\u001b[0m\u001b[1;33m,\u001b[0m \u001b[0mcolumns\u001b[0m\u001b[1;33m,\u001b[0m \u001b[0mdtype\u001b[0m\u001b[1;33m=\u001b[0m\u001b[0mdtype\u001b[0m\u001b[1;33m)\u001b[0m\u001b[1;33m\u001b[0m\u001b[1;33m\u001b[0m\u001b[0m\n\u001b[0m\u001b[0;32m    255\u001b[0m \u001b[1;33m\u001b[0m\u001b[0m\n\u001b[0;32m    256\u001b[0m \u001b[1;33m\u001b[0m\u001b[0m\n",
      "\u001b[1;32m~\\Anaconda3\\lib\\site-packages\\pandas\\core\\internals\\construction.py\u001b[0m in \u001b[0;36marrays_to_mgr\u001b[1;34m(arrays, arr_names, index, columns, dtype)\u001b[0m\n\u001b[0;32m     62\u001b[0m     \u001b[1;31m# figure out the index, if necessary\u001b[0m\u001b[1;33m\u001b[0m\u001b[1;33m\u001b[0m\u001b[1;33m\u001b[0m\u001b[0m\n\u001b[0;32m     63\u001b[0m     \u001b[1;32mif\u001b[0m \u001b[0mindex\u001b[0m \u001b[1;32mis\u001b[0m \u001b[1;32mNone\u001b[0m\u001b[1;33m:\u001b[0m\u001b[1;33m\u001b[0m\u001b[1;33m\u001b[0m\u001b[0m\n\u001b[1;32m---> 64\u001b[1;33m         \u001b[0mindex\u001b[0m \u001b[1;33m=\u001b[0m \u001b[0mextract_index\u001b[0m\u001b[1;33m(\u001b[0m\u001b[0marrays\u001b[0m\u001b[1;33m)\u001b[0m\u001b[1;33m\u001b[0m\u001b[1;33m\u001b[0m\u001b[0m\n\u001b[0m\u001b[0;32m     65\u001b[0m     \u001b[1;32melse\u001b[0m\u001b[1;33m:\u001b[0m\u001b[1;33m\u001b[0m\u001b[1;33m\u001b[0m\u001b[0m\n\u001b[0;32m     66\u001b[0m         \u001b[0mindex\u001b[0m \u001b[1;33m=\u001b[0m \u001b[0mensure_index\u001b[0m\u001b[1;33m(\u001b[0m\u001b[0mindex\u001b[0m\u001b[1;33m)\u001b[0m\u001b[1;33m\u001b[0m\u001b[1;33m\u001b[0m\u001b[0m\n",
      "\u001b[1;32m~\\Anaconda3\\lib\\site-packages\\pandas\\core\\internals\\construction.py\u001b[0m in \u001b[0;36mextract_index\u001b[1;34m(data)\u001b[0m\n\u001b[0;32m    363\u001b[0m             \u001b[0mlengths\u001b[0m \u001b[1;33m=\u001b[0m \u001b[0mlist\u001b[0m\u001b[1;33m(\u001b[0m\u001b[0mset\u001b[0m\u001b[1;33m(\u001b[0m\u001b[0mraw_lengths\u001b[0m\u001b[1;33m)\u001b[0m\u001b[1;33m)\u001b[0m\u001b[1;33m\u001b[0m\u001b[1;33m\u001b[0m\u001b[0m\n\u001b[0;32m    364\u001b[0m             \u001b[1;32mif\u001b[0m \u001b[0mlen\u001b[0m\u001b[1;33m(\u001b[0m\u001b[0mlengths\u001b[0m\u001b[1;33m)\u001b[0m \u001b[1;33m>\u001b[0m \u001b[1;36m1\u001b[0m\u001b[1;33m:\u001b[0m\u001b[1;33m\u001b[0m\u001b[1;33m\u001b[0m\u001b[0m\n\u001b[1;32m--> 365\u001b[1;33m                 \u001b[1;32mraise\u001b[0m \u001b[0mValueError\u001b[0m\u001b[1;33m(\u001b[0m\u001b[1;34m\"arrays must all be same length\"\u001b[0m\u001b[1;33m)\u001b[0m\u001b[1;33m\u001b[0m\u001b[1;33m\u001b[0m\u001b[0m\n\u001b[0m\u001b[0;32m    366\u001b[0m \u001b[1;33m\u001b[0m\u001b[0m\n\u001b[0;32m    367\u001b[0m             \u001b[1;32mif\u001b[0m \u001b[0mhave_dicts\u001b[0m\u001b[1;33m:\u001b[0m\u001b[1;33m\u001b[0m\u001b[1;33m\u001b[0m\u001b[0m\n",
      "\u001b[1;31mValueError\u001b[0m: arrays must all be same length"
     ]
    }
   ],
   "source": [
    "df = pd.DataFrame({'Product Name':products,'prices':prices}) \n",
    "df.to_csv('products12.csv', index=False, encoding='utf-8')"
   ]
  },
  {
   "cell_type": "code",
   "execution_count": null,
   "metadata": {},
   "outputs": [],
   "source": []
  },
  {
   "cell_type": "code",
   "execution_count": null,
   "metadata": {},
   "outputs": [],
   "source": []
  },
  {
   "cell_type": "code",
   "execution_count": null,
   "metadata": {},
   "outputs": [],
   "source": []
  },
  {
   "cell_type": "code",
   "execution_count": null,
   "metadata": {},
   "outputs": [],
   "source": []
  },
  {
   "cell_type": "code",
   "execution_count": null,
   "metadata": {},
   "outputs": [],
   "source": []
  },
  {
   "cell_type": "code",
   "execution_count": 123,
   "metadata": {},
   "outputs": [],
   "source": []
  },
  {
   "cell_type": "code",
   "execution_count": null,
   "metadata": {},
   "outputs": [],
   "source": [
    "import "
   ]
  },
  {
   "cell_type": "code",
   "execution_count": null,
   "metadata": {},
   "outputs": [],
   "source": []
  }
 ],
 "metadata": {
  "kernelspec": {
   "display_name": "Python 3",
   "language": "python",
   "name": "python3"
  },
  "language_info": {
   "codemirror_mode": {
    "name": "ipython",
    "version": 3
   },
   "file_extension": ".py",
   "mimetype": "text/x-python",
   "name": "python",
   "nbconvert_exporter": "python",
   "pygments_lexer": "ipython3",
   "version": "3.7.1"
  }
 },
 "nbformat": 4,
 "nbformat_minor": 2
}
